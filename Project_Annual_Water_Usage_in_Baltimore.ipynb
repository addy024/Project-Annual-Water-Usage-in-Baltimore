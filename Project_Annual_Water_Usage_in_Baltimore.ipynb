{
  "nbformat": 4,
  "nbformat_minor": 0,
  "metadata": {
    "colab": {
      "name": "Project: Annual Water Usage in Baltimore.ipynb",
      "provenance": [],
      "collapsed_sections": []
    },
    "kernelspec": {
      "name": "python3",
      "display_name": "Python 3"
    },
    "language_info": {
      "name": "python"
    }
  },
  "cells": [
    {
      "cell_type": "markdown",
      "source": [
        "# **Project: Annual Water Usage in Baltimore**"
      ],
      "metadata": {
        "id": "snVbsr2GjuCa"
      }
    },
    {
      "cell_type": "markdown",
      "source": [
        "## **Problem Description**\n",
        "\n",
        "> The problem is to predict annual water usage. The dataset provides the annual water usage\n",
        "in Baltimore from 1885 to 1963, or 79 years of data. The values are in the units of liters per\n",
        "capita per day, and there are 79 observations. The dataset is credited to Hipel and McLeod,\n",
        "1994."
      ],
      "metadata": {
        "id": "NOujJEeUj4WF"
      }
    },
    {
      "cell_type": "markdown",
      "source": [
        "## **Test Harness**\n"
      ],
      "metadata": {
        "id": "QhCJRhPAkDJ9"
      }
    },
    {
      "cell_type": "markdown",
      "source": [
        "### **Validation Dataset**\n",
        "\n",
        "> The dataset is not current. This means that we cannot easily collect updated data to validate\n",
        "the model. Therefore, we will pretend that it is 1953 and withhold the last 10 years of data\n",
        "from analysis and model selection. This final decade of data will be used to validate the final\n",
        "model. "
      ],
      "metadata": {
        "id": "vqIKY7sUkISc"
      }
    },
    {
      "cell_type": "code",
      "execution_count": 2,
      "metadata": {
        "colab": {
          "base_uri": "https://localhost:8080/"
        },
        "id": "IzowuZaMODJ4",
        "outputId": "e29818c0-e1b1-4d3e-e779-82277c320a4d"
      },
      "outputs": [
        {
          "output_type": "stream",
          "name": "stdout",
          "text": [
            "Dataset 69, Validation 10\n"
          ]
        }
      ],
      "source": [
        "# separate out a validation dataset\n",
        "from pandas import read_csv\n",
        "series = read_csv('water.csv', header=0, index_col=0, parse_dates=True, squeeze=True)\n",
        "split_point = len(series) - 10\n",
        "dataset, validation = series[0:split_point], series[split_point:]\n",
        "print('Dataset %d, Validation %d' % (len(dataset), len(validation)))\n",
        "dataset.to_csv('dataset.csv', header=False)\n",
        "validation.to_csv('validation.csv', header=False)"
      ]
    },
    {
      "cell_type": "markdown",
      "source": [
        "**The specific contents of these files are:**\n",
        ">\n",
        "* dataset.csv: Observations from 1885 to 1953 (69 observations).\n",
        "* validation.csv: Observations from 1954 to 1963 (10 observations)."
      ],
      "metadata": {
        "id": "OXOypuR1kW9V"
      }
    },
    {
      "cell_type": "markdown",
      "source": [
        "### **Model Evaluation**\n",
        "\n",
        "> The RMSE performance measure and walk-forward validation will be used for model evaluation"
      ],
      "metadata": {
        "id": "J9qPEdU7kfdO"
      }
    },
    {
      "cell_type": "markdown",
      "source": [
        "## **Persistence**\n",
        "\n",
        "The first step before getting bogged down in data analysis and modeling is to establish a baseline\n",
        "of performance. This will provide both a template for evaluating models using the proposed\n",
        "test harness and a performance measure by which all more elaborate predictive models can be\n",
        "compared."
      ],
      "metadata": {
        "id": "51hGzPOMmcRg"
      }
    },
    {
      "cell_type": "code",
      "source": [
        "# evaluate a persistence model\n",
        "from sklearn.metrics import mean_squared_error\n",
        "from math import sqrt\n",
        "# load data\n",
        "series = read_csv('dataset.csv', header=None, index_col=0, parse_dates=True, squeeze=True)\n",
        "# prepare data\n",
        "X = series.values\n",
        "X = X.astype('float32')\n",
        "train_size = int(len(X) * 0.50)\n",
        "train, test = X[0:train_size], X[train_size:]\n",
        "# walk-forward validation\n",
        "history = [x for x in train]\n",
        "predictions = list()\n",
        "for i in range(len(test)):\n",
        "    # predict\n",
        "    yhat = history[-1]\n",
        "    predictions.append(yhat)\n",
        "    # observation\n",
        "    obs = test[i]\n",
        "    history.append(obs)\n",
        "    print('>Predicted=%.3f, Expected=%.3f' % (yhat, obs))\n",
        "# report performance\n",
        "rmse = sqrt(mean_squared_error(test, predictions))\n",
        "print('RMSE: %.3f' % rmse)\n"
      ],
      "metadata": {
        "colab": {
          "base_uri": "https://localhost:8080/"
        },
        "id": "qEEmKMBJQRtn",
        "outputId": "8821ebe7-93c5-4a82-d9ac-ba29e30aeedc"
      },
      "execution_count": 3,
      "outputs": [
        {
          "output_type": "stream",
          "name": "stdout",
          "text": [
            ">Predicted=503.000, Expected=503.000\n",
            ">Predicted=503.000, Expected=503.000\n",
            ">Predicted=503.000, Expected=515.000\n",
            ">Predicted=515.000, Expected=522.000\n",
            ">Predicted=522.000, Expected=492.000\n",
            ">Predicted=492.000, Expected=503.000\n",
            ">Predicted=503.000, Expected=503.000\n",
            ">Predicted=503.000, Expected=450.000\n",
            ">Predicted=450.000, Expected=432.000\n",
            ">Predicted=432.000, Expected=432.000\n",
            ">Predicted=432.000, Expected=458.000\n",
            ">Predicted=458.000, Expected=462.000\n",
            ">Predicted=462.000, Expected=503.000\n",
            ">Predicted=503.000, Expected=488.000\n",
            ">Predicted=488.000, Expected=466.000\n",
            ">Predicted=466.000, Expected=492.000\n",
            ">Predicted=492.000, Expected=503.000\n",
            ">Predicted=503.000, Expected=515.000\n",
            ">Predicted=515.000, Expected=500.000\n",
            ">Predicted=500.000, Expected=522.000\n",
            ">Predicted=522.000, Expected=575.000\n",
            ">Predicted=575.000, Expected=583.000\n",
            ">Predicted=583.000, Expected=587.000\n",
            ">Predicted=587.000, Expected=628.000\n",
            ">Predicted=628.000, Expected=640.000\n",
            ">Predicted=640.000, Expected=609.000\n",
            ">Predicted=609.000, Expected=606.000\n",
            ">Predicted=606.000, Expected=632.000\n",
            ">Predicted=632.000, Expected=617.000\n",
            ">Predicted=617.000, Expected=613.000\n",
            ">Predicted=613.000, Expected=598.000\n",
            ">Predicted=598.000, Expected=575.000\n",
            ">Predicted=575.000, Expected=564.000\n",
            ">Predicted=564.000, Expected=549.000\n",
            ">Predicted=549.000, Expected=538.000\n",
            "RMSE: 21.975\n"
          ]
        }
      ]
    },
    {
      "cell_type": "markdown",
      "source": [
        "## **Data Analysis**\n",
        "\n",
        "We can use summary statistics and plots of the data to quickly learn more about the structure\n",
        "of the prediction problem."
      ],
      "metadata": {
        "id": "xlNdve7VmnGH"
      }
    },
    {
      "cell_type": "markdown",
      "source": [
        "### **Summary Statistics**"
      ],
      "metadata": {
        "id": "0wPK-bNzmteU"
      }
    },
    {
      "cell_type": "code",
      "source": [
        "# summary statistics of time series\n",
        "print(series.describe())"
      ],
      "metadata": {
        "colab": {
          "base_uri": "https://localhost:8080/"
        },
        "id": "664pypL9QYvW",
        "outputId": "41e16a96-57d8-4e9f-d169-8737f20615cd"
      },
      "execution_count": 4,
      "outputs": [
        {
          "output_type": "stream",
          "name": "stdout",
          "text": [
            "count     69.000000\n",
            "mean     500.478261\n",
            "std       73.901685\n",
            "min      344.000000\n",
            "25%      458.000000\n",
            "50%      492.000000\n",
            "75%      538.000000\n",
            "max      662.000000\n",
            "Name: 1, dtype: float64\n"
          ]
        }
      ]
    },
    {
      "cell_type": "markdown",
      "source": [
        "**Some observations from these statistics include:**\n",
        "> \n",
        "\n",
        "\n",
        "*   The number of observations (count) matches our expectation, meaning we are handling\n",
        "the data correctly.\n",
        "*   The mean is about 500, which we might consider our level in this series.\n",
        "*    The standard deviation and percentiles suggest a reasonably tight spread around the\n",
        "mean\n",
        "\n"
      ],
      "metadata": {
        "id": "KO2aDNWrmzNT"
      }
    },
    {
      "cell_type": "markdown",
      "source": [
        "### **Line Plot**"
      ],
      "metadata": {
        "id": "juXTm9lrnBbo"
      }
    },
    {
      "cell_type": "code",
      "source": [
        "# line plot of time series\n",
        "series.plot()\n",
        "pyplot.show()\n"
      ],
      "metadata": {
        "colab": {
          "base_uri": "https://localhost:8080/",
          "height": 279
        },
        "id": "48IWkrVuQcTj",
        "outputId": "fa4a97b7-a217-44f8-da4f-b1abd0977b3c"
      },
      "execution_count": 5,
      "outputs": [
        {
          "output_type": "display_data",
          "data": {
            "image/png": "[encoded data removed]",
            "text/plain": [
              "<Figure size 432x288 with 1 Axes>"
            ]
          },
          "metadata": {
            "needs_background": "light"
          }
        }
      ]
    },
    {
      "cell_type": "markdown",
      "source": [
        "**Some observations from the plot include:**\n",
        ">\n",
        "\n",
        "\n",
        "*   There looks to be an increasing trend in water usage over time.\n",
        "*   There do not appear to be any obvious outliers, although there are some large fluctuations.\n",
        "*   There is a downward trend for the last few years of the series.\n",
        "\n"
      ],
      "metadata": {
        "id": "vw1d56ALnEsK"
      }
    },
    {
      "cell_type": "markdown",
      "source": [
        "### **Density Plot**"
      ],
      "metadata": {
        "id": "muwFJvp1nynS"
      }
    },
    {
      "cell_type": "code",
      "source": [
        "# density plots of time series\n",
        "pyplot.figure(1)\n",
        "pyplot.subplot(211)\n",
        "series.hist()\n",
        "pyplot.subplot(212)\n",
        "series.plot(kind='kde')\n",
        "pyplot.show()"
      ],
      "metadata": {
        "colab": {
          "base_uri": "https://localhost:8080/",
          "height": 265
        },
        "id": "kcKPnB0YQeN7",
        "outputId": "dc353c95-d992-414d-a27a-c9145d1256cb"
      },
      "execution_count": 6,
      "outputs": [
        {
          "output_type": "display_data",
          "data": {
            "image/png": "[encoded data removed]",
            "text/plain": [
              "<Figure size 432x288 with 2 Axes>"
            ]
          },
          "metadata": {
            "needs_background": "light"
          }
        }
      ]
    },
    {
      "cell_type": "markdown",
      "source": [
        "** Some observations from the plots include:**\n",
        ">\n",
        "\n",
        "\n",
        "*    The distribution is not Gaussian, but is pretty close.\n",
        "*   The distribution has a long right tail and may suggest an exponential distribution or a\n",
        "double Gaussian.\n",
        "\n",
        "\n"
      ],
      "metadata": {
        "id": "QQFe6nZPn2zK"
      }
    },
    {
      "cell_type": "markdown",
      "source": [
        "### **Box and Whisker Plots**\n",
        "\n",
        "> We can group the annual data by decade and get an idea of the spread of observations for each\n",
        "decade and how this may be changing. We do expect to see some trend (increasing mean or\n",
        "median), but it may be interesting to see how the rest of the distribution may be changing. The\n",
        "example below groups the observations by decade and creates one box and whisker plot for\n",
        "each decade of observations. The last decade only contains 9 years and may not be a useful\n",
        "comparison with the other decades. Therefore only data between 1885 and 1944 was plotted."
      ],
      "metadata": {
        "id": "uX3ASPxmn-3t"
      }
    },
    {
      "cell_type": "code",
      "source": [
        "# boxplots of time series\n",
        "from pandas import DataFrame\n",
        "from pandas import Grouper\n",
        "groups = series.groupby(Grouper(freq='10YS'))\n",
        "decades = DataFrame()\n",
        "for name, group in groups:\n",
        "    if len(group.values) is 10:\n",
        "        decades[name.year] = group.values\n",
        "decades.boxplot()\n",
        "pyplot.show()\n"
      ],
      "metadata": {
        "colab": {
          "base_uri": "https://localhost:8080/",
          "height": 265
        },
        "id": "oTAyeZvXQhFM",
        "outputId": "b303c5c5-a05f-4db2-c14f-1deed451170f"
      },
      "execution_count": 7,
      "outputs": [
        {
          "output_type": "display_data",
          "data": {
            "image/png": "[encoded data removed]",
            "text/plain": [
              "<Figure size 432x288 with 1 Axes>"
            ]
          },
          "metadata": {
            "needs_background": "light"
          }
        }
      ]
    },
    {
      "cell_type": "markdown",
      "source": [
        "**Some observations from reviewing the plot include:**\n",
        ">\n",
        "*    The median values for each year (red line) may show an increasing trend that may not be\n",
        "linear.\n",
        "*    The spread, or middle 50% of the data (blue boxes), does show some variability.\n",
        "*    There maybe outliers in some decades (crosses outside of the box and whiskers).\n",
        "*    The second to last decade seems to have a lower average consumption, perhaps related to\n",
        "the first world war.\n"
      ],
      "metadata": {
        "id": "f54U5B3up60H"
      }
    },
    {
      "cell_type": "markdown",
      "source": [
        "## **Modelling**\n"
      ],
      "metadata": {
        "id": "KM_PTWiorcP6"
      }
    },
    {
      "cell_type": "code",
      "source": [
        "# create and summarize a stationary version of the time series\n",
        "from pandas import Series\n",
        "from statsmodels.tsa.stattools import adfuller\n",
        "# create a differenced series\n",
        "def difference(dataset):\n",
        "    diff = list()\n",
        "    for i in range(1, len(dataset)):\n",
        "        value = dataset[i] - dataset[i - 1]\n",
        "        diff.append(value)\n",
        "    return Series(diff)\n",
        "X = series.values\n",
        "X = X.astype('float32')\n",
        "# difference data\n",
        "stationary = difference(X)\n",
        "stationary.index = series.index[1:]\n",
        "# check if stationary\n",
        "result = adfuller(stationary)\n",
        "print('ADF Statistic: %f' % result[0])\n",
        "print('p-value: %f' % result[1])\n",
        "print('Critical Values:')\n",
        "for key, value in result[4].items():\n",
        "    print('\\t%s: %.3f' % (key, value))\n",
        "# plot differenced data\n",
        "stationary.plot()\n",
        "pyplot.show()\n",
        "# save\n",
        "stationary.to_csv('stationary.csv', header=False)"
      ],
      "metadata": {
        "colab": {
          "base_uri": "https://localhost:8080/",
          "height": 418
        },
        "id": "xwXYzJLJQmxH",
        "outputId": "62a04c67-91a7-468f-c1e1-71cf09a4e89a"
      },
      "execution_count": 8,
      "outputs": [
        {
          "output_type": "stream",
          "name": "stderr",
          "text": [
            "/usr/local/lib/python3.7/dist-packages/statsmodels/tools/_testing.py:19: FutureWarning: pandas.util.testing is deprecated. Use the functions in the public API at pandas.testing instead.\n",
            "  import pandas.util.testing as tm\n"
          ]
        },
        {
          "output_type": "stream",
          "name": "stdout",
          "text": [
            "ADF Statistic: -6.126719\n",
            "p-value: 0.000000\n",
            "Critical Values:\n",
            "\t1%: -3.534\n",
            "\t5%: -2.906\n",
            "\t10%: -2.591\n"
          ]
        },
        {
          "output_type": "display_data",
          "data": {
            "image/png": "[encoded data removed]",
            "text/plain": [
              "<Figure size 432x288 with 1 Axes>"
            ]
          },
          "metadata": {
            "needs_background": "light"
          }
        }
      ]
    },
    {
      "cell_type": "markdown",
      "source": [
        "The result of a statistical significance test of whether the\n",
        "differenced series is stationary. Specifically, the augmented Dickey-Fuller test. The results show\n",
        "that the test statistic value -6.126719 is smaller than the critical value at 1% of -3.534. This\n",
        "suggests that we can reject the null hypothesis with a significance level of less than 1% (i.e. a\n",
        "low probability that the result is a statistical fluke)."
      ],
      "metadata": {
        "id": "n9xCvJGkthQ8"
      }
    },
    {
      "cell_type": "markdown",
      "source": [
        "This suggests that at least one level of differencing is required. "
      ],
      "metadata": {
        "id": "LjL26LMvtn-H"
      }
    },
    {
      "cell_type": "code",
      "source": [
        "# ACF and PACF plots of the time series\n",
        "pyplot.figure()\n",
        "pyplot.subplot(211)\n",
        "plot_acf(series, lags=20, ax=pyplot.gca())\n",
        "pyplot.subplot(212)\n",
        "plot_pacf(series, lags=20, ax=pyplot.gca())\n",
        "pyplot.show()"
      ],
      "metadata": {
        "colab": {
          "base_uri": "https://localhost:8080/",
          "height": 281
        },
        "id": "i_ukY28vQxxb",
        "outputId": "a6535b52-d341-42ab-ebe6-8ce05e69d0b9"
      },
      "execution_count": 9,
      "outputs": [
        {
          "output_type": "display_data",
          "data": {
            "image/png": "[encoded data removed]",
            "text/plain": [
              "<Figure size 432x288 with 2 Axes>"
            ]
          },
          "metadata": {
            "needs_background": "light"
          }
        }
      ]
    },
    {
      "cell_type": "markdown",
      "source": [
        "**some observations from the plots.**\n",
        ">\n",
        "* The ACF shows significant lags to 4 time steps.\n",
        "* The PACF shows significant lags to 1 time step."
      ],
      "metadata": {
        "id": "Zlwjo8NQts86"
      }
    },
    {
      "cell_type": "code",
      "source": [
        "# evaluate a manually configured ARIMA model\n",
        "# prepare data\n",
        "X = series.values\n",
        "X = X.astype('float32')\n",
        "train_size = int(len(X) * 0.50)\n",
        "train, test = X[0:train_size], X[train_size:]\n",
        "# walk-forward validation\n",
        "history = [x for x in train]\n",
        "predictions = list()\n",
        "for i in range(len(test)):\n",
        "    # predict\n",
        "    model = ARIMA(history, order=(4,1,1))\n",
        "    model_fit = model.fit(disp=0)\n",
        "    yhat = model_fit.forecast()[0]\n",
        "    predictions.append(yhat)\n",
        "    # observation\n",
        "    obs = test[i]\n",
        "    history.append(obs)\n",
        "    print('>Predicted=%.3f, Expected=%.3f' % (yhat, obs))\n",
        "# report performance\n",
        "rmse = sqrt(mean_squared_error(test, predictions))\n",
        "print('RMSE: %.3f' % rmse)"
      ],
      "metadata": {
        "colab": {
          "base_uri": "https://localhost:8080/"
        },
        "id": "ZgKIxIkSQ2Ur",
        "outputId": "9bb02450-e678-41da-f2fb-c5659c0038cd"
      },
      "execution_count": 10,
      "outputs": [
        {
          "output_type": "stream",
          "name": "stdout",
          "text": [
            ">Predicted=548.319, Expected=503.000\n",
            ">Predicted=545.085, Expected=503.000\n",
            ">Predicted=546.061, Expected=515.000\n",
            ">Predicted=550.660, Expected=522.000\n",
            ">Predicted=552.011, Expected=492.000\n",
            ">Predicted=519.221, Expected=503.000\n",
            ">Predicted=527.953, Expected=503.000\n",
            ">Predicted=534.026, Expected=450.000\n",
            ">Predicted=474.119, Expected=432.000\n",
            ">Predicted=456.458, Expected=432.000\n",
            ">Predicted=465.408, Expected=458.000\n",
            ">Predicted=481.425, Expected=462.000\n",
            ">Predicted=476.154, Expected=503.000\n",
            ">Predicted=511.083, Expected=488.000\n",
            ">Predicted=497.183, Expected=466.000\n",
            ">Predicted=460.301, Expected=492.000\n",
            ">Predicted=506.310, Expected=503.000\n",
            ">Predicted=515.928, Expected=515.000\n",
            ">Predicted=516.368, Expected=500.000\n",
            ">Predicted=504.364, Expected=522.000\n",
            ">Predicted=525.885, Expected=575.000\n",
            ">Predicted=579.358, Expected=583.000\n",
            ">Predicted=575.313, Expected=587.000\n",
            ">Predicted=573.357, Expected=628.000\n",
            ">Predicted=622.136, Expected=640.000\n",
            ">Predicted=632.299, Expected=609.000\n",
            ">Predicted=595.782, Expected=606.000\n",
            ">Predicted=602.448, Expected=632.000\n",
            ">Predicted=635.945, Expected=617.000\n",
            ">Predicted=614.238, Expected=613.000\n",
            ">Predicted=609.030, Expected=598.000\n",
            ">Predicted=601.830, Expected=575.000\n",
            ">Predicted=580.316, Expected=564.000\n",
            ">Predicted=574.084, Expected=549.000\n",
            ">Predicted=562.009, Expected=538.000\n",
            "RMSE: 31.097\n"
          ]
        }
      ]
    },
    {
      "cell_type": "code",
      "source": [
        "# grid search ARIMA parameters for a time series\n",
        "import warnings\n",
        "# evaluate an ARIMA model for a given order (p,d,q) and return RMSE\n",
        "def evaluate_arima_model(X, arima_order):\n",
        "    # prepare training dataset\n",
        "    X = X.astype('float32')\n",
        "    train_size = int(len(X) * 0.50)\n",
        "    train, test = X[0:train_size], X[train_size:]\n",
        "    history = [x for x in train]\n",
        "    # make predictions\n",
        "    predictions = list()\n",
        "    for t in range(len(test)):\n",
        "        model = ARIMA(history, order=arima_order)\n",
        "        # model_fit = model.fit(disp=0)\n",
        "        model_fit = model.fit(trend='nc', disp=0)\n",
        "        yhat = model_fit.forecast()[0]\n",
        "        predictions.append(yhat)\n",
        "        history.append(test[t])\n",
        "    # calculate out of sample error\n",
        "    rmse = sqrt(mean_squared_error(test, predictions))\n",
        "    return rmse\n",
        "# evaluate combinations of p, d and q values for an ARIMA model\n",
        "def evaluate_models(dataset, p_values, d_values, q_values):\n",
        "    dataset = dataset.astype('float32')\n",
        "    best_score, best_cfg = float(\"inf\"), None\n",
        "    for p in p_values:\n",
        "        for d in d_values:\n",
        "            for q in q_values:\n",
        "                order = (p,d,q)\n",
        "                try:\n",
        "                    rmse = evaluate_arima_model(dataset, order)\n",
        "                    if rmse < best_score:\n",
        "                        best_score, best_cfg = rmse, order\n",
        "                    print('ARIMA%s RMSE=%.3f' % (order,rmse))\n",
        "                except:\n",
        "                    continue\n",
        "    print('Best ARIMA%s RMSE=%.3f' % (best_cfg, best_score))\n",
        "# load dataset\n",
        "series = read_csv('dataset.csv', header=None, index_col=0, parse_dates=True, squeeze=True)\n",
        "# evaluate parameters\n",
        "p_values = range(0, 5)\n",
        "d_values = range(0, 3)\n",
        "q_values = range(0, 5)\n",
        "warnings.filterwarnings(\"ignore\")\n",
        "evaluate_models(series.values, p_values, d_values, q_values)"
      ],
      "metadata": {
        "colab": {
          "base_uri": "https://localhost:8080/"
        },
        "id": "yPpwhKBzQ-eJ",
        "outputId": "77b02c00-c9e9-493f-f3dd-ef32308d4562"
      },
      "execution_count": 11,
      "outputs": [
        {
          "output_type": "stream",
          "name": "stdout",
          "text": [
            "ARIMA(0, 0, 1) RMSE=282.656\n",
            "ARIMA(0, 0, 4) RMSE=77.295\n",
            "ARIMA(0, 1, 1) RMSE=21.907\n",
            "ARIMA(0, 1, 2) RMSE=22.182\n",
            "ARIMA(0, 1, 3) RMSE=24.733\n",
            "ARIMA(0, 1, 4) RMSE=24.845\n",
            "ARIMA(0, 2, 1) RMSE=22.381\n",
            "ARIMA(0, 2, 2) RMSE=22.244\n",
            "ARIMA(1, 0, 0) RMSE=22.084\n",
            "ARIMA(1, 1, 0) RMSE=21.922\n",
            "ARIMA(1, 2, 0) RMSE=27.464\n",
            "ARIMA(1, 2, 1) RMSE=22.271\n",
            "ARIMA(2, 0, 0) RMSE=22.793\n",
            "ARIMA(2, 1, 0) RMSE=21.733\n",
            "ARIMA(2, 2, 0) RMSE=25.282\n",
            "ARIMA(3, 0, 0) RMSE=21.962\n",
            "ARIMA(3, 1, 0) RMSE=24.270\n",
            "ARIMA(3, 1, 1) RMSE=25.491\n",
            "ARIMA(3, 2, 0) RMSE=25.625\n",
            "ARIMA(3, 2, 1) RMSE=25.007\n",
            "ARIMA(3, 2, 4) RMSE=25.966\n",
            "ARIMA(4, 0, 0) RMSE=24.923\n",
            "ARIMA(4, 1, 0) RMSE=24.802\n",
            "ARIMA(4, 1, 1) RMSE=25.103\n",
            "ARIMA(4, 1, 2) RMSE=24.995\n",
            "ARIMA(4, 2, 0) RMSE=27.089\n",
            "ARIMA(4, 2, 1) RMSE=25.933\n",
            "ARIMA(4, 2, 2) RMSE=25.419\n",
            "Best ARIMA(2, 1, 0) RMSE=21.733\n"
          ]
        }
      ]
    },
    {
      "cell_type": "markdown",
      "source": [
        "The results show that the best configuration discovered was ARIMA(2,1,0) with an RMSE\n",
        "of 21.733, slightly lower than the persistence model tested earlier, but may or may not be significantly different."
      ],
      "metadata": {
        "id": "rONRcqHFuhc2"
      }
    },
    {
      "cell_type": "code",
      "source": [
        "# summarize residual errors for an ARIMA model\n",
        "# prepare data\n",
        "X = series.values\n",
        "X = X.astype('float32')\n",
        "train_size = int(len(X) * 0.50)\n",
        "train, test = X[0:train_size], X[train_size:]\n",
        "# walk-forward validation\n",
        "history = [x for x in train]\n",
        "predictions = list()\n",
        "for i in range(len(test)):\n",
        "# predict\n",
        "    model = ARIMA(history, order=(2,1,0))\n",
        "    model_fit = model.fit(trend='nc', disp=0)\n",
        "    yhat = model_fit.forecast()[0]\n",
        "    predictions.append(yhat)\n",
        "    # observation\n",
        "    obs = test[i]\n",
        "    history.append(obs)\n",
        "# errors\n",
        "residuals = [test[i]-predictions[i] for i in range(len(test))]\n",
        "residuals = DataFrame(residuals)\n",
        "print(residuals.describe())\n",
        "pyplot.figure()\n",
        "pyplot.subplot(211)\n",
        "residuals.hist(ax=pyplot.gca())\n",
        "pyplot.subplot(212)\n",
        "residuals.plot(kind='kde', ax=pyplot.gca())\n",
        "pyplot.show()"
      ],
      "metadata": {
        "colab": {
          "base_uri": "https://localhost:8080/",
          "height": 437
        },
        "id": "IGek9RDtRbrS",
        "outputId": "bbe4a671-627c-4b1e-bfcc-31b8924f89b8"
      },
      "execution_count": 13,
      "outputs": [
        {
          "output_type": "stream",
          "name": "stdout",
          "text": [
            "               0\n",
            "count  35.000000\n",
            "mean    1.081625\n",
            "std    22.022566\n",
            "min   -52.103811\n",
            "25%   -16.202280\n",
            "50%    -0.459805\n",
            "75%    12.085093\n",
            "max    51.284333\n"
          ]
        },
        {
          "output_type": "display_data",
          "data": {
            "image/png": "[encoded data removed]",
            "text/plain": [
              "<Figure size 432x288 with 2 Axes>"
            ]
          },
          "metadata": {
            "needs_background": "light"
          }
        }
      ]
    },
    {
      "cell_type": "markdown",
      "source": [
        "We can see that the\n",
        "distribution has a right shift and that the mean is non-zero at 1.081624. This is perhaps a sign\n",
        "that the predictions are biased.\n"
      ],
      "metadata": {
        "id": "Da8vliV7uoj_"
      }
    },
    {
      "cell_type": "code",
      "source": [
        "# summarize residual errors from bias corrected forecasts\n",
        "\n",
        "from statsmodels.tsa.arima_model import ARIMA\n",
        "# prepare data\n",
        "X = series.values\n",
        "X = X.astype('float32')\n",
        "train_size = int(len(X) * 0.50)\n",
        "train, test = X[0:train_size], X[train_size:]\n",
        "# walk-forward validation\n",
        "history = [x for x in train]\n",
        "predictions = list()\n",
        "bias = 1.081624\n",
        "for i in range(len(test)):\n",
        "# predict\n",
        "    model = ARIMA(history, order=(2,1,0))\n",
        "    model_fit = model.fit(trend='nc', disp=0)\n",
        "    yhat = bias + float(model_fit.forecast()[0])\n",
        "    predictions.append(yhat)\n",
        "    # observation\n",
        "    obs = test[i]\n",
        "    history.append(obs)\n",
        "# report performance\n",
        "rmse = sqrt(mean_squared_error(test, predictions))\n",
        "print('RMSE: %.3f' % rmse)\n",
        "# summarize residual errors\n",
        "residuals = [test[i]-predictions[i] for i in range(len(test))]\n",
        "residuals = DataFrame(residuals)\n",
        "print(residuals.describe())\n",
        "# plot residual errors\n",
        "pyplot.figure()\n",
        "pyplot.subplot(211)\n",
        "residuals.hist(ax=pyplot.gca())\n",
        "pyplot.subplot(212)\n",
        "residuals.plot(kind='kde', ax=pyplot.gca())\n",
        "pyplot.show()\n"
      ],
      "metadata": {
        "colab": {
          "base_uri": "https://localhost:8080/",
          "height": 455
        },
        "id": "qtVg6ciRSDMt",
        "outputId": "c7f1e3e9-a984-4249-e724-9a96cf5e3969"
      },
      "execution_count": 14,
      "outputs": [
        {
          "output_type": "stream",
          "name": "stdout",
          "text": [
            "RMSE: 21.706\n",
            "                  0\n",
            "count  3.500000e+01\n",
            "mean   6.256219e-07\n",
            "std    2.202257e+01\n",
            "min   -5.318544e+01\n",
            "25%   -1.728390e+01\n",
            "50%   -1.541429e+00\n",
            "75%    1.100347e+01\n",
            "max    5.020271e+01\n"
          ]
        },
        {
          "output_type": "display_data",
          "data": {
            "image/png": "[encoded data removed]",
            "text/plain": [
              "<Figure size 432x288 with 2 Axes>"
            ]
          },
          "metadata": {
            "needs_background": "light"
          }
        }
      ]
    },
    {
      "cell_type": "markdown",
      "source": [
        "The performance of the predictions is improved very slightly from 21.733 to 21.706, which\n",
        "may or may not be significant. The summary of the forecast residual errors shows that the\n",
        "mean was indeed moved to a value very close to zero.\n"
      ],
      "metadata": {
        "id": "7Y-xpYrpvA7p"
      }
    },
    {
      "cell_type": "markdown",
      "source": [
        "## **Model Validation**\n"
      ],
      "metadata": {
        "id": "aSbO3UDWvKaH"
      }
    },
    {
      "cell_type": "code",
      "source": [
        "# save finalized model to file\n",
        "import numpy\n",
        "# monkey patch around bug in ARIMA class\n",
        "def __getnewargs__(self):\n",
        "    return ((self.endog),(self.k_lags, self.k_diff, self.k_ma))\n",
        "ARIMA.__getnewargs__ = __getnewargs__\n",
        "# load data\n",
        "series = read_csv('dataset.csv', header=None, index_col=0, parse_dates=True, squeeze=True)\n",
        "# prepare data\n",
        "X = series.values\n",
        "X = X.astype('float32')\n",
        "# fit model\n",
        "model = ARIMA(X, order=(2,1,0))\n",
        "model_fit = model.fit(trend='nc', disp=0)\n",
        "# bias constant, could be calculated from in-sample mean residual\n",
        "bias = 1.081624\n",
        "# save model\n",
        "model_fit.save('model.pkl')\n",
        "numpy.save('model_bias.npy', [bias])"
      ],
      "metadata": {
        "id": "YwQK9UXuSMFE"
      },
      "execution_count": 16,
      "outputs": []
    },
    {
      "cell_type": "markdown",
      "source": [
        "* model.pkl This is the ARIMAResult object from the call to ARIMA.fit(). This includes\n",
        "the coefficients and all other internal data returned when fitting the model.\n",
        "* model bias.npy This is the bias value stored as a one-row, one-column NumPy array"
      ],
      "metadata": {
        "id": "0gZK_ABbvQG3"
      }
    },
    {
      "cell_type": "code",
      "source": [
        "# load finalized model and make a prediction\n",
        "from statsmodels.tsa.arima_model import ARIMAResults\n",
        "import numpy\n",
        "model_fit = ARIMAResults.load('model.pkl')\n",
        "bias = numpy.load('model_bias.npy')\n",
        "yhat = bias + float(model_fit.forecast()[0])\n",
        "print('Predicted: %.3f' % yhat)\n"
      ],
      "metadata": {
        "colab": {
          "base_uri": "https://localhost:8080/"
        },
        "id": "e5nM-jBtSPzi",
        "outputId": "93f8b2f6-49ca-4303-8919-6a646aa0ff50"
      },
      "execution_count": 17,
      "outputs": [
        {
          "output_type": "stream",
          "name": "stdout",
          "text": [
            "Predicted: 540.013\n"
          ]
        }
      ]
    },
    {
      "cell_type": "markdown",
      "source": [
        "the prediction of about 540"
      ],
      "metadata": {
        "id": "fX3wrC4ivYal"
      }
    },
    {
      "cell_type": "code",
      "source": [
        "# load and evaluate the finalized model on the validation dataset\n",
        "X = dataset.values.astype('float32')\n",
        "history = [x for x in X]\n",
        "validation = read_csv('validation.csv', header=None, index_col=0, parse_dates=True,\n",
        "squeeze=True)\n",
        "y = validation.values.astype('float32')\n",
        "# load model\n",
        "model_fit = ARIMAResults.load('model.pkl')\n",
        "bias = numpy.load('model_bias.npy')\n",
        "# make first prediction\n",
        "predictions = list()\n",
        "yhat = bias + float(model_fit.forecast()[0])\n",
        "predictions.append(yhat)\n",
        "history.append(y[0])\n",
        "print('>Predicted=%.3f, Expected=%.3f' % (yhat, y[0]))\n",
        "# rolling forecasts\n",
        "for i in range(1, len(y)):\n",
        "    # predict\n",
        "    model = ARIMA(history, order=(2,1,0))\n",
        "    model_fit = model.fit(trend='nc', disp=0)\n",
        "    yhat = bias + float(model_fit.forecast()[0])\n",
        "    predictions.append(yhat)\n",
        "    # observation\n",
        "    obs = y[i]\n",
        "    history.append(obs)\n",
        "    print('>Predicted=%.3f, Expected=%.3f' % (yhat, obs))\n",
        "# report performance\n",
        "rmse = sqrt(mean_squared_error(y, predictions))\n",
        "print('RMSE: %.3f' % rmse)\n",
        "pyplot.plot(y)\n",
        "pyplot.plot(predictions, color='red')\n",
        "pyplot.show()\n"
      ],
      "metadata": {
        "colab": {
          "base_uri": "https://localhost:8080/",
          "height": 456
        },
        "id": "XsBxNZfzSUY2",
        "outputId": "e8468fbe-00e1-41c2-da80-51ec542c1bf1"
      },
      "execution_count": 18,
      "outputs": [
        {
          "output_type": "stream",
          "name": "stdout",
          "text": [
            ">Predicted=540.013, Expected=568.000\n",
            ">Predicted=571.589, Expected=575.000\n",
            ">Predicted=573.289, Expected=579.000\n",
            ">Predicted=579.561, Expected=587.000\n",
            ">Predicted=588.063, Expected=602.000\n",
            ">Predicted=603.022, Expected=594.000\n",
            ">Predicted=593.178, Expected=587.000\n",
            ">Predicted=588.558, Expected=587.000\n",
            ">Predicted=588.797, Expected=625.000\n",
            ">Predicted=627.941, Expected=613.000\n",
            "RMSE: 16.532\n"
          ]
        },
        {
          "output_type": "display_data",
          "data": {
            "image/png": "[encoded data removed]",
            "text/plain": [
              "<Figure size 432x288 with 1 Axes>"
            ]
          },
          "metadata": {
            "needs_background": "light"
          }
        }
      ]
    },
    {
      "cell_type": "markdown",
      "source": [
        "The final RMSE for the validation period is predicted at 16 liters per capita\n",
        "per day. This is not too different from the expected error of 21, but We would expect that it is\n",
        "also not too different from a simple persistence model."
      ],
      "metadata": {
        "id": "9W2f_d_DwO2q"
      }
    },
    {
      "cell_type": "markdown",
      "source": [
        "A plot of the predictions compared to the validation dataset is also provided. The forecast\n",
        "does have the characteristics of a persistence forecast. This suggests that although this time\n",
        "series does have an obvious trend, it is still a reasonably difficult problem."
      ],
      "metadata": {
        "id": "zztuJ7JzwT68"
      }
    },
    {
      "cell_type": "code",
      "source": [
        ""
      ],
      "metadata": {
        "id": "_n8JD5wHSpWt"
      },
      "execution_count": null,
      "outputs": []
    }
  ]
}